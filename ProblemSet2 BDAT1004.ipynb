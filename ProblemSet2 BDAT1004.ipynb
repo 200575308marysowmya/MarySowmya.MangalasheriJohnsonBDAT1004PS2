{
 "cells": [
  {
   "cell_type": "markdown",
   "id": "465fd9c3",
   "metadata": {},
   "source": [
    "<h2>Question 1</h2>\n"
   ]
  },
  {
   "cell_type": "markdown",
   "id": "362e5a76",
   "metadata": {},
   "source": [
    "<h4>What value is displayed when the last expression (a) is evaluated? Explain your answer by indicating what happens in every executed statement.</h4>\n"
   ]
  },
  {
   "cell_type": "markdown",
   "id": "3a54269a",
   "metadata": {},
   "source": [
    "a = 0 \n",
    "def b():\n",
    "    global a\n",
    "    a = c(a)\n",
    "def c(a):\n",
    "    return a + 2\n",
    "b()\n",
    "b()\n",
    "b()\n",
    "a\n",
    "\n",
    "The initial value of a is 0.\n",
    "In the first call to b(),it calls c(0),returning 0 + 2, resulting 2.\n",
    "In the second call to b(),it calls c(2),returning 2 + 2, resulting 4.\n",
    "In the third call to b(),it calls c(4),returning 4 + 2, resulting 6.\n",
    "So, when executing b() thrice, the value of results in 6.\n"
   ]
  },
  {
   "cell_type": "markdown",
   "id": "04e3e718",
   "metadata": {},
   "source": [
    "<h4>Question 2:Function fileLength(), given to you, takes the name of a file as input and returns the length of the file:</h4>"
   ]
  },
  {
   "cell_type": "code",
   "execution_count": 4,
   "id": "7091c033",
   "metadata": {},
   "outputs": [
    {
     "data": {
      "text/plain": [
       "123"
      ]
     },
     "execution_count": 4,
     "metadata": {},
     "output_type": "execute_result"
    }
   ],
   "source": [
    "def fileLength(filename):\n",
    "    try:\n",
    "        infile = open('FileLength.txt', 'r')\n",
    "        contents = infile.read()\n",
    "        infile.close()\n",
    "        length = len(contents)\n",
    "        return length\n",
    "    except FileNotFoundError:\n",
    "        print(f\"File {filename} not found.\")\n",
    "fileLength('FileLength.txt')"
   ]
  },
  {
   "cell_type": "code",
   "execution_count": 5,
   "id": "ba95bcd7",
   "metadata": {},
   "outputs": [
    {
     "name": "stdout",
     "output_type": "stream",
     "text": [
      "File midterm.py not found. Kindly check the file name or folder!\n"
     ]
    }
   ],
   "source": [
    "def fileLength(filename):\n",
    "    try:\n",
    "        infile = open('midterm.py', 'r')\n",
    "        contents = infile.read()\n",
    "        infile.close()\n",
    "        length = len(contents)\n",
    "        return length\n",
    "    except FileNotFoundError:\n",
    "        print(f\"File {filename} not found. Kindly check the file name or folder!\")\n",
    "fileLength('midterm.py')"
   ]
  },
  {
   "cell_type": "markdown",
   "id": "afaf501c",
   "metadata": {},
   "source": [
    "<h4>Question 3:a class named Marsupial that can be used as shown below:</h4>"
   ]
  },
  {
   "cell_type": "code",
   "execution_count": null,
   "id": "95570a96",
   "metadata": {},
   "outputs": [],
   "source": [
    "class Marsupial:\n",
    "    def __init__(self):\n",
    "        self.pouch = []\n",
    "\n",
    "    def put_in_pouch(self, item):\n",
    "        self.pouch.append(item)\n",
    "\n",
    "    def pouch_contents(self):\n",
    "        return self.pouch\n",
    "class Kangaroo(Marsupial):\n",
    "    def __init__(self, x, y):\n",
    "        super().__init__()  \n",
    "        self.x = x\n",
    "        self.y = y\n",
    "\n",
    "    def jump(self, dx, dy):\n",
    "        self.x += dx\n",
    "        self.y += dy\n",
    "\n",
    "    def __str__(self):\n",
    "        return f\"I am a Kangaroo located at coordinates ({self.x},{self.y})\"\n",
    "\n",
    "\n",
    "\n"
   ]
  },
  {
   "cell_type": "code",
   "execution_count": 8,
   "id": "54455489",
   "metadata": {},
   "outputs": [
    {
     "name": "stdout",
     "output_type": "stream",
     "text": [
      "['doll', 'firetruck', 'kitten']\n"
     ]
    }
   ],
   "source": [
    "m = Marsupial()\n",
    "m.put_in_pouch('doll')\n",
    "m.put_in_pouch('firetruck')\n",
    "m.put_in_pouch('kitten')\n",
    "print(m.pouch_contents())"
   ]
  },
  {
   "cell_type": "code",
   "execution_count": 11,
   "id": "164a3eea",
   "metadata": {},
   "outputs": [
    {
     "name": "stdout",
     "output_type": "stream",
     "text": [
      "I am a Kangaroo located at coordinates (0,0)\n",
      "['doll', 'firetruck', 'kitten']\n",
      "I am a Kangaroo located at coordinates (3,0)\n"
     ]
    }
   ],
   "source": [
    "k = Kangaroo(0, 0)\n",
    "print(k)\n",
    "k.put_in_pouch('doll')\n",
    "k.put_in_pouch('firetruck')\n",
    "k.put_in_pouch('kitten')\n",
    "print(k.pouch_contents()) \n",
    "k.jump(1, 0)\n",
    "k.jump(1, 0)\n",
    "k.jump(1, 0)\n",
    "print(k)"
   ]
  },
  {
   "cell_type": "markdown",
   "id": "9cc11038",
   "metadata": {},
   "source": [
    "<h4>Question 4:Write function collatz() that takes a positive integer x as input and prints the Collatz sequence starting at x.</h4>"
   ]
  },
  {
   "cell_type": "code",
   "execution_count": 12,
   "id": "d84edca0",
   "metadata": {},
   "outputs": [
    {
     "name": "stdout",
     "output_type": "stream",
     "text": [
      "1\n",
      "10\n",
      "5\n",
      "16\n",
      "8\n",
      "4\n",
      "2\n",
      "1\n"
     ]
    }
   ],
   "source": [
    "def collatz(x):\n",
    "    if x == 1:\n",
    "        print(1)\n",
    "    else:\n",
    "        print(x)\n",
    "        if x % 2 == 0:\n",
    "            collatz(x // 2)\n",
    "        else:\n",
    "            collatz(3 * x + 1)\n",
    "collatz(1)\n",
    "collatz(10)"
   ]
  },
  {
   "cell_type": "markdown",
   "id": "e6a7da94",
   "metadata": {},
   "source": [
    "<h4>Question 5:Write a recursive method binary() that takes a non-negative integer n and prints the binary representation of integer n</h4>"
   ]
  },
  {
   "cell_type": "code",
   "execution_count": 13,
   "id": "a99f166e",
   "metadata": {},
   "outputs": [
    {
     "name": "stdout",
     "output_type": "stream",
     "text": [
      "0\n",
      "1\n",
      "11\n",
      "1001"
     ]
    }
   ],
   "source": [
    "def binary(n):\n",
    "    if n > 1:\n",
    "        binary(n // 2) \n",
    "    print(n % 2, end=\"\")\n",
    "\n",
    "binary(0)  \n",
    "print()  \n",
    "binary(1) \n",
    "print()\n",
    "binary(3) \n",
    "print()\n",
    "binary(9) "
   ]
  },
  {
   "cell_type": "markdown",
   "id": "3f7b291f",
   "metadata": {},
   "source": [
    "<h4>Question 6:Implement a class named HeadingParser that can be used to parse an HTML document, and retrieve and print all the headings in the documentn</h4>"
   ]
  },
  {
   "cell_type": "code",
   "execution_count": 14,
   "id": "d2391d53",
   "metadata": {},
   "outputs": [
    {
     "name": "stdout",
     "output_type": "stream",
     "text": [
      "W3C Mission\n",
      "  Principles\n"
     ]
    }
   ],
   "source": [
    "from html.parser import HTMLParser\n",
    "\n",
    "class HeadingParser(HTMLParser):\n",
    "    def __init__(self):\n",
    "        super().__init__()\n",
    "        self.in_heading = False\n",
    "        self.heading_level = 0\n",
    "\n",
    "    def handle_starttag(self, tag, attrs):\n",
    "        if tag.startswith('h') and len(tag) == 2 and tag[1].isdigit():\n",
    "            self.in_heading = True\n",
    "            self.heading_level = int(tag[1])\n",
    "\n",
    "    def handle_endtag(self, tag):\n",
    "        if self.in_heading and tag == f'h{self.heading_level}':\n",
    "            self.in_heading = False\n",
    "\n",
    "    def handle_data(self, data):\n",
    "        if self.in_heading:\n",
    "            print('  ' * (self.heading_level - 1) + data)\n",
    "\n",
    "if __name__ == '__main__':\n",
    "    infile = open('w3c.html', 'r')\n",
    "    content = infile.read()\n",
    "    infile.close()\n",
    "\n",
    "    hp = HeadingParser()\n",
    "    hp.feed(content)"
   ]
  },
  {
   "cell_type": "markdown",
   "id": "61964320",
   "metadata": {},
   "source": [
    "<h4>Question 7:Implement recursive function webdir() that takes as input: a URL (as a string) and non-negative integers depth and indent.</h4>"
   ]
  },
  {
   "cell_type": "code",
   "execution_count": 15,
   "id": "001e1cc9",
   "metadata": {},
   "outputs": [
    {
     "name": "stdout",
     "output_type": "stream",
     "text": [
      "http://web.simmons.edu/~grovesd/comm244/notes/week3/html-test-page.html\n",
      "  http://web.simmons.edu/~grovesd/comm244\n",
      "  http://web.simmons.edu/~grovesd/comm244/week3\n"
     ]
    }
   ],
   "source": [
    "import requests\n",
    "from bs4 import BeautifulSoup\n",
    "\n",
    "def webdir(url, depth, indent):\n",
    "    if depth == 0:\n",
    "        return\n",
    "    \n",
    "    try:\n",
    "        response = requests.get(url)\n",
    "        if response.status_code == 200:\n",
    "            soup = BeautifulSoup(response.text, 'html.parser')\n",
    "            print(' ' * indent + url)\n",
    "\n",
    "            for link in soup.find_all('a'):\n",
    "                href = link.get('href')\n",
    "                if href.startswith('http') or href.startswith('https'):\n",
    "                    webdir(href, depth - 1, indent + 2)\n",
    "    except requests.exceptions.RequestException:\n",
    "        pass\n",
    "\n",
    "\n",
    "webdir('http://web.simmons.edu/~grovesd/comm244/notes/week3/html-test-page.html', 2, 0)\n"
   ]
  },
  {
   "cell_type": "markdown",
   "id": "91614a74",
   "metadata": {},
   "source": [
    "<h4>Question 8:Write SQL queries on the below database table that return:</h4>\n",
    "    \n"
   ]
  },
  {
   "cell_type": "code",
   "execution_count": null,
   "id": "1686e590",
   "metadata": {},
   "outputs": [],
   "source": [
    "<h4>a) All the temperature data.\n",
    "    select Temperature from climate;\n",
    "    \n",
    "b) All the cities, but without repetition.\n",
    "    select distinct City from climate;\n",
    "    \n",
    "c) All the records for India.\n",
    "    select * from climate where Country = 'India';\n",
    "    \n",
    "d) All the Fall records.\n",
    "    select * from climate where Season = 'Fall';\n",
    "    \n",
    "e) The city, country, and season for which the average rainfall is between 200 and 400 millimeters.\n",
    "    select City, Country, Season from climate where Rainfall >= 200 and Rainfall <= 400;\n",
    "    \n",
    "f) The city and country for which the average Fall temperature is above 20 degrees, in increasing temperature order.\n",
    "    select city, country from climate where season = 'Fall' and temperature > 20 \n",
    "    order by temperature asc;\n",
    "\n",
    "g) The total annual rainfall for Cairo.\n",
    "        select sum(rainfall) as total_annual_rainfall from climate where City = 'Cairo';\n",
    "    \n",
    "h) The total rainfall for each season.\n",
    "    select city,country, season,sum(rainfall) as Total_rainfall from climate \n",
    "    group by city,country,season \n",
    "    order by city,country,season;\n"
   ]
  },
  {
   "cell_type": "markdown",
   "id": "cd792aa0",
   "metadata": {},
   "source": [
    "<h4>Question 9:Write list comprehension expressions that use list words and generate the following lists:</h4>"
   ]
  },
  {
   "cell_type": "code",
   "execution_count": 17,
   "id": "77538eb7",
   "metadata": {},
   "outputs": [
    {
     "name": "stdout",
     "output_type": "stream",
     "text": [
      "['THE', 'QUICK', 'BROWN', 'FOX', 'JUMPS', 'OVER', 'THE', 'LAZY', 'DOG']\n",
      "['the', 'quick', 'brown', 'fox', 'jumps', 'over', 'the', 'lazy', 'dog']\n",
      "[3, 5, 5, 3, 5, 4, 3, 4, 3]\n",
      "[['THE', 'the', 3], ['QUICK', 'quick', 5], ['BROWN', 'brown', 5], ['FOX', 'fox', 3], ['JUMPS', 'jumps', 5], ['OVER', 'over', 4], ['THE', 'the', 3], ['LAZY', 'lazy', 4], ['DOG', 'dog', 3]]\n",
      "['quick', 'brown', 'jumps', 'over', 'lazy']\n"
     ]
    }
   ],
   "source": [
    "words = ['The', 'quick', 'brown', 'fox', 'jumps', 'over', 'the', 'lazy', 'dog']\n",
    "\n",
    "uppercase_words = [word.upper() for word in words]\n",
    "lowercase_words = [word.lower() for word in words]\n",
    "word_lengths = [len(word) for word in words]\n",
    "word_info = [[word.upper(), word.lower(), len(word)] for word in words]\n",
    "long_words = [word for word in words if len(word) >= 4]\n",
    "\n",
    "print(uppercase_words)  \n",
    "print(lowercase_words)  \n",
    "print(word_lengths)  \n",
    "print(word_info)  \n",
    "print(long_words) "
   ]
  },
  {
   "cell_type": "code",
   "execution_count": null,
   "id": "8e37aee2",
   "metadata": {},
   "outputs": [],
   "source": []
  }
 ],
 "metadata": {
  "kernelspec": {
   "display_name": "Python 3 (ipykernel)",
   "language": "python",
   "name": "python3"
  },
  "language_info": {
   "codemirror_mode": {
    "name": "ipython",
    "version": 3
   },
   "file_extension": ".py",
   "mimetype": "text/x-python",
   "name": "python",
   "nbconvert_exporter": "python",
   "pygments_lexer": "ipython3",
   "version": "3.11.4"
  }
 },
 "nbformat": 4,
 "nbformat_minor": 5
}
